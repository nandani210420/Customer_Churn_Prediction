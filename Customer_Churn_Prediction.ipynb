{
  "nbformat": 4,
  "nbformat_minor": 0,
  "metadata": {
    "colab": {
      "provenance": []
    },
    "kernelspec": {
      "name": "python3",
      "display_name": "Python 3"
    },
    "language_info": {
      "name": "python"
    }
  },
  "cells": [
    {
      "cell_type": "markdown",
      "source": [
        "# **Customer Churn Prediction Using `XGBoost`**\n",
        "\n",
        "In this project, we have built and trained a model using `XGBoost` and Python that predicts whether a customer will stay or churn.\n",
        "\n",
        "### **What is Churn?**\n",
        "\n",
        "Churn is the measure of how many customers stop using a product. This can be measured based on actual usage or failure to renew (when the product is sold using a subscription model). Often evaluated for a specific period of time, there can be a monthly, quarterly, or annual churn rate.\n",
        "\n",
        "### **The Dataset**\n",
        "\n",
        "In this project, we have used a [dataset](https://www.kaggle.com/datasets/ermismbatuhan/digital-marketing-ecommerce-customer-behavior) from Kaggle, that is posted by [MUSTAFA BATUHAN ERMIŞ](https://www.kaggle.com/ermismbatuhan). The dataset has a CSV file which contains 20 columns. We took the column `churn` as our target variable and the other columns as our features."
      ],
      "metadata": {
        "id": "m6z0YFmRvCj0"
      }
    },
    {
      "cell_type": "markdown",
      "source": [
        "## **Importing Dependencies**"
      ],
      "metadata": {
        "id": "9m5fcqoqOD06"
      }
    },
    {
      "cell_type": "code",
      "execution_count": null,
      "metadata": {
        "id": "V33mu_vAp7tS"
      },
      "outputs": [],
      "source": [
        "# import the dependemcies\n",
        "import pandas as pd\n",
        "import numpy as np\n",
        "import xgboost as xgb\n",
        "from sklearn.model_selection import train_test_split\n",
        "from sklearn.preprocessing import Normalizer\n",
        "from sklearn.model_selection import GridSearchCV\n",
        "from sklearn.metrics import accuracy_score"
      ]
    },
    {
      "cell_type": "code",
      "source": [
        "import warnings\n",
        "warnings.filterwarnings('ignore')"
      ],
      "metadata": {
        "id": "Ap6faWl3vjqe"
      },
      "execution_count": null,
      "outputs": []
    },
    {
      "cell_type": "markdown",
      "source": [
        "## **Creating Dataframe**\n",
        "\n",
        "We have uploaded the file `data.csv` from the local machine that we downloaded from Kaggle."
      ],
      "metadata": {
        "id": "51OgfdOXOKpv"
      }
    },
    {
      "cell_type": "code",
      "source": [
        "# Upload file from local machine to Google Colab\n",
        "\n",
        "from google.colab import files\n",
        "uploaded = files.upload()"
      ],
      "metadata": {
        "colab": {
          "base_uri": "https://localhost:8080/",
          "height": 74
        },
        "id": "PeGg24rIU_Zn",
        "outputId": "030a1426-f96e-40e6-acfc-182f06995653"
      },
      "execution_count": null,
      "outputs": [
        {
          "output_type": "display_data",
          "data": {
            "text/plain": [
              "<IPython.core.display.HTML object>"
            ],
            "text/html": [
              "\n",
              "     <input type=\"file\" id=\"files-27a58ee0-d5b6-4434-8508-1c8c8ddefd4b\" name=\"files[]\" multiple disabled\n",
              "        style=\"border:none\" />\n",
              "     <output id=\"result-27a58ee0-d5b6-4434-8508-1c8c8ddefd4b\">\n",
              "      Upload widget is only available when the cell has been executed in the\n",
              "      current browser session. Please rerun this cell to enable.\n",
              "      </output>\n",
              "      <script>// Copyright 2017 Google LLC\n",
              "//\n",
              "// Licensed under the Apache License, Version 2.0 (the \"License\");\n",
              "// you may not use this file except in compliance with the License.\n",
              "// You may obtain a copy of the License at\n",
              "//\n",
              "//      http://www.apache.org/licenses/LICENSE-2.0\n",
              "//\n",
              "// Unless required by applicable law or agreed to in writing, software\n",
              "// distributed under the License is distributed on an \"AS IS\" BASIS,\n",
              "// WITHOUT WARRANTIES OR CONDITIONS OF ANY KIND, either express or implied.\n",
              "// See the License for the specific language governing permissions and\n",
              "// limitations under the License.\n",
              "\n",
              "/**\n",
              " * @fileoverview Helpers for google.colab Python module.\n",
              " */\n",
              "(function(scope) {\n",
              "function span(text, styleAttributes = {}) {\n",
              "  const element = document.createElement('span');\n",
              "  element.textContent = text;\n",
              "  for (const key of Object.keys(styleAttributes)) {\n",
              "    element.style[key] = styleAttributes[key];\n",
              "  }\n",
              "  return element;\n",
              "}\n",
              "\n",
              "// Max number of bytes which will be uploaded at a time.\n",
              "const MAX_PAYLOAD_SIZE = 100 * 1024;\n",
              "\n",
              "function _uploadFiles(inputId, outputId) {\n",
              "  const steps = uploadFilesStep(inputId, outputId);\n",
              "  const outputElement = document.getElementById(outputId);\n",
              "  // Cache steps on the outputElement to make it available for the next call\n",
              "  // to uploadFilesContinue from Python.\n",
              "  outputElement.steps = steps;\n",
              "\n",
              "  return _uploadFilesContinue(outputId);\n",
              "}\n",
              "\n",
              "// This is roughly an async generator (not supported in the browser yet),\n",
              "// where there are multiple asynchronous steps and the Python side is going\n",
              "// to poll for completion of each step.\n",
              "// This uses a Promise to block the python side on completion of each step,\n",
              "// then passes the result of the previous step as the input to the next step.\n",
              "function _uploadFilesContinue(outputId) {\n",
              "  const outputElement = document.getElementById(outputId);\n",
              "  const steps = outputElement.steps;\n",
              "\n",
              "  const next = steps.next(outputElement.lastPromiseValue);\n",
              "  return Promise.resolve(next.value.promise).then((value) => {\n",
              "    // Cache the last promise value to make it available to the next\n",
              "    // step of the generator.\n",
              "    outputElement.lastPromiseValue = value;\n",
              "    return next.value.response;\n",
              "  });\n",
              "}\n",
              "\n",
              "/**\n",
              " * Generator function which is called between each async step of the upload\n",
              " * process.\n",
              " * @param {string} inputId Element ID of the input file picker element.\n",
              " * @param {string} outputId Element ID of the output display.\n",
              " * @return {!Iterable<!Object>} Iterable of next steps.\n",
              " */\n",
              "function* uploadFilesStep(inputId, outputId) {\n",
              "  const inputElement = document.getElementById(inputId);\n",
              "  inputElement.disabled = false;\n",
              "\n",
              "  const outputElement = document.getElementById(outputId);\n",
              "  outputElement.innerHTML = '';\n",
              "\n",
              "  const pickedPromise = new Promise((resolve) => {\n",
              "    inputElement.addEventListener('change', (e) => {\n",
              "      resolve(e.target.files);\n",
              "    });\n",
              "  });\n",
              "\n",
              "  const cancel = document.createElement('button');\n",
              "  inputElement.parentElement.appendChild(cancel);\n",
              "  cancel.textContent = 'Cancel upload';\n",
              "  const cancelPromise = new Promise((resolve) => {\n",
              "    cancel.onclick = () => {\n",
              "      resolve(null);\n",
              "    };\n",
              "  });\n",
              "\n",
              "  // Wait for the user to pick the files.\n",
              "  const files = yield {\n",
              "    promise: Promise.race([pickedPromise, cancelPromise]),\n",
              "    response: {\n",
              "      action: 'starting',\n",
              "    }\n",
              "  };\n",
              "\n",
              "  cancel.remove();\n",
              "\n",
              "  // Disable the input element since further picks are not allowed.\n",
              "  inputElement.disabled = true;\n",
              "\n",
              "  if (!files) {\n",
              "    return {\n",
              "      response: {\n",
              "        action: 'complete',\n",
              "      }\n",
              "    };\n",
              "  }\n",
              "\n",
              "  for (const file of files) {\n",
              "    const li = document.createElement('li');\n",
              "    li.append(span(file.name, {fontWeight: 'bold'}));\n",
              "    li.append(span(\n",
              "        `(${file.type || 'n/a'}) - ${file.size} bytes, ` +\n",
              "        `last modified: ${\n",
              "            file.lastModifiedDate ? file.lastModifiedDate.toLocaleDateString() :\n",
              "                                    'n/a'} - `));\n",
              "    const percent = span('0% done');\n",
              "    li.appendChild(percent);\n",
              "\n",
              "    outputElement.appendChild(li);\n",
              "\n",
              "    const fileDataPromise = new Promise((resolve) => {\n",
              "      const reader = new FileReader();\n",
              "      reader.onload = (e) => {\n",
              "        resolve(e.target.result);\n",
              "      };\n",
              "      reader.readAsArrayBuffer(file);\n",
              "    });\n",
              "    // Wait for the data to be ready.\n",
              "    let fileData = yield {\n",
              "      promise: fileDataPromise,\n",
              "      response: {\n",
              "        action: 'continue',\n",
              "      }\n",
              "    };\n",
              "\n",
              "    // Use a chunked sending to avoid message size limits. See b/62115660.\n",
              "    let position = 0;\n",
              "    do {\n",
              "      const length = Math.min(fileData.byteLength - position, MAX_PAYLOAD_SIZE);\n",
              "      const chunk = new Uint8Array(fileData, position, length);\n",
              "      position += length;\n",
              "\n",
              "      const base64 = btoa(String.fromCharCode.apply(null, chunk));\n",
              "      yield {\n",
              "        response: {\n",
              "          action: 'append',\n",
              "          file: file.name,\n",
              "          data: base64,\n",
              "        },\n",
              "      };\n",
              "\n",
              "      let percentDone = fileData.byteLength === 0 ?\n",
              "          100 :\n",
              "          Math.round((position / fileData.byteLength) * 100);\n",
              "      percent.textContent = `${percentDone}% done`;\n",
              "\n",
              "    } while (position < fileData.byteLength);\n",
              "  }\n",
              "\n",
              "  // All done.\n",
              "  yield {\n",
              "    response: {\n",
              "      action: 'complete',\n",
              "    }\n",
              "  };\n",
              "}\n",
              "\n",
              "scope.google = scope.google || {};\n",
              "scope.google.colab = scope.google.colab || {};\n",
              "scope.google.colab._files = {\n",
              "  _uploadFiles,\n",
              "  _uploadFilesContinue,\n",
              "};\n",
              "})(self);\n",
              "</script> "
            ]
          },
          "metadata": {}
        },
        {
          "output_type": "stream",
          "name": "stdout",
          "text": [
            "Saving data.csv to data.csv\n"
          ]
        }
      ]
    },
    {
      "cell_type": "code",
      "source": [
        "# Create dataframe\n",
        "df = pd.read_csv(\"data.csv\", sep = \";\")"
      ],
      "metadata": {
        "id": "-2SVk1MMvple"
      },
      "execution_count": null,
      "outputs": []
    },
    {
      "cell_type": "code",
      "source": [
        "df.head()"
      ],
      "metadata": {
        "colab": {
          "base_uri": "https://localhost:8080/",
          "height": 340
        },
        "id": "os38sUKav6qb",
        "outputId": "befb7784-8fc3-4567-84ef-3cbbfc394763"
      },
      "execution_count": null,
      "outputs": [
        {
          "output_type": "execute_result",
          "data": {
            "text/plain": [
              "   account length  location code  user id credit card info save push status  \\\n",
              "0             128            415  3824657                    no         yes   \n",
              "1             107            415  3717191                    no         yes   \n",
              "2             137            415  3581921                    no          no   \n",
              "3              84            408  3759999                   yes          no   \n",
              "4              75            415  3306626                   yes          no   \n",
              "\n",
              "   add to wishlist  desktop sessions  app sessions  desktop transactions  \\\n",
              "0               25               265            45                    17   \n",
              "1               26               162            27                    17   \n",
              "2                0               243            41                    10   \n",
              "3                0               299            51                     5   \n",
              "4                0               167            28                    13   \n",
              "\n",
              "   total product detail views  session duration  promotion clicks  \\\n",
              "0                         110               197                87   \n",
              "1                         123               196               103   \n",
              "2                         114               121               110   \n",
              "3                          71                62                88   \n",
              "4                         113               148               122   \n",
              "\n",
              "  avg order value  sale product views discount rate per visited products  \\\n",
              "0           244,7                  91                              11,01   \n",
              "1           254,4                 103                              11,45   \n",
              "2           162,6                 104                               7,32   \n",
              "3           196,9                  89                               8,86   \n",
              "4           186,9                 121                               8,41   \n",
              "\n",
              "  product detail view per app session  app transactions  \\\n",
              "0                                  10                 3   \n",
              "1                                13,7                 3   \n",
              "2                                12,2                 5   \n",
              "3                                 6,6                 7   \n",
              "4                                10,1                 3   \n",
              "\n",
              "  add to cart per session  customer service calls  churn  \n",
              "0                     2,7                       1      0  \n",
              "1                     3,7                       1      0  \n",
              "2                    3,29                       0      0  \n",
              "3                    1,78                       2      0  \n",
              "4                    2,73                       3      0  "
            ],
            "text/html": [
              "\n",
              "  <div id=\"df-a55c5088-7117-4896-9104-cd793d22bf79\">\n",
              "    <div class=\"colab-df-container\">\n",
              "      <div>\n",
              "<style scoped>\n",
              "    .dataframe tbody tr th:only-of-type {\n",
              "        vertical-align: middle;\n",
              "    }\n",
              "\n",
              "    .dataframe tbody tr th {\n",
              "        vertical-align: top;\n",
              "    }\n",
              "\n",
              "    .dataframe thead th {\n",
              "        text-align: right;\n",
              "    }\n",
              "</style>\n",
              "<table border=\"1\" class=\"dataframe\">\n",
              "  <thead>\n",
              "    <tr style=\"text-align: right;\">\n",
              "      <th></th>\n",
              "      <th>account length</th>\n",
              "      <th>location code</th>\n",
              "      <th>user id</th>\n",
              "      <th>credit card info save</th>\n",
              "      <th>push status</th>\n",
              "      <th>add to wishlist</th>\n",
              "      <th>desktop sessions</th>\n",
              "      <th>app sessions</th>\n",
              "      <th>desktop transactions</th>\n",
              "      <th>total product detail views</th>\n",
              "      <th>session duration</th>\n",
              "      <th>promotion clicks</th>\n",
              "      <th>avg order value</th>\n",
              "      <th>sale product views</th>\n",
              "      <th>discount rate per visited products</th>\n",
              "      <th>product detail view per app session</th>\n",
              "      <th>app transactions</th>\n",
              "      <th>add to cart per session</th>\n",
              "      <th>customer service calls</th>\n",
              "      <th>churn</th>\n",
              "    </tr>\n",
              "  </thead>\n",
              "  <tbody>\n",
              "    <tr>\n",
              "      <th>0</th>\n",
              "      <td>128</td>\n",
              "      <td>415</td>\n",
              "      <td>3824657</td>\n",
              "      <td>no</td>\n",
              "      <td>yes</td>\n",
              "      <td>25</td>\n",
              "      <td>265</td>\n",
              "      <td>45</td>\n",
              "      <td>17</td>\n",
              "      <td>110</td>\n",
              "      <td>197</td>\n",
              "      <td>87</td>\n",
              "      <td>244,7</td>\n",
              "      <td>91</td>\n",
              "      <td>11,01</td>\n",
              "      <td>10</td>\n",
              "      <td>3</td>\n",
              "      <td>2,7</td>\n",
              "      <td>1</td>\n",
              "      <td>0</td>\n",
              "    </tr>\n",
              "    <tr>\n",
              "      <th>1</th>\n",
              "      <td>107</td>\n",
              "      <td>415</td>\n",
              "      <td>3717191</td>\n",
              "      <td>no</td>\n",
              "      <td>yes</td>\n",
              "      <td>26</td>\n",
              "      <td>162</td>\n",
              "      <td>27</td>\n",
              "      <td>17</td>\n",
              "      <td>123</td>\n",
              "      <td>196</td>\n",
              "      <td>103</td>\n",
              "      <td>254,4</td>\n",
              "      <td>103</td>\n",
              "      <td>11,45</td>\n",
              "      <td>13,7</td>\n",
              "      <td>3</td>\n",
              "      <td>3,7</td>\n",
              "      <td>1</td>\n",
              "      <td>0</td>\n",
              "    </tr>\n",
              "    <tr>\n",
              "      <th>2</th>\n",
              "      <td>137</td>\n",
              "      <td>415</td>\n",
              "      <td>3581921</td>\n",
              "      <td>no</td>\n",
              "      <td>no</td>\n",
              "      <td>0</td>\n",
              "      <td>243</td>\n",
              "      <td>41</td>\n",
              "      <td>10</td>\n",
              "      <td>114</td>\n",
              "      <td>121</td>\n",
              "      <td>110</td>\n",
              "      <td>162,6</td>\n",
              "      <td>104</td>\n",
              "      <td>7,32</td>\n",
              "      <td>12,2</td>\n",
              "      <td>5</td>\n",
              "      <td>3,29</td>\n",
              "      <td>0</td>\n",
              "      <td>0</td>\n",
              "    </tr>\n",
              "    <tr>\n",
              "      <th>3</th>\n",
              "      <td>84</td>\n",
              "      <td>408</td>\n",
              "      <td>3759999</td>\n",
              "      <td>yes</td>\n",
              "      <td>no</td>\n",
              "      <td>0</td>\n",
              "      <td>299</td>\n",
              "      <td>51</td>\n",
              "      <td>5</td>\n",
              "      <td>71</td>\n",
              "      <td>62</td>\n",
              "      <td>88</td>\n",
              "      <td>196,9</td>\n",
              "      <td>89</td>\n",
              "      <td>8,86</td>\n",
              "      <td>6,6</td>\n",
              "      <td>7</td>\n",
              "      <td>1,78</td>\n",
              "      <td>2</td>\n",
              "      <td>0</td>\n",
              "    </tr>\n",
              "    <tr>\n",
              "      <th>4</th>\n",
              "      <td>75</td>\n",
              "      <td>415</td>\n",
              "      <td>3306626</td>\n",
              "      <td>yes</td>\n",
              "      <td>no</td>\n",
              "      <td>0</td>\n",
              "      <td>167</td>\n",
              "      <td>28</td>\n",
              "      <td>13</td>\n",
              "      <td>113</td>\n",
              "      <td>148</td>\n",
              "      <td>122</td>\n",
              "      <td>186,9</td>\n",
              "      <td>121</td>\n",
              "      <td>8,41</td>\n",
              "      <td>10,1</td>\n",
              "      <td>3</td>\n",
              "      <td>2,73</td>\n",
              "      <td>3</td>\n",
              "      <td>0</td>\n",
              "    </tr>\n",
              "  </tbody>\n",
              "</table>\n",
              "</div>\n",
              "      <button class=\"colab-df-convert\" onclick=\"convertToInteractive('df-a55c5088-7117-4896-9104-cd793d22bf79')\"\n",
              "              title=\"Convert this dataframe to an interactive table.\"\n",
              "              style=\"display:none;\">\n",
              "        \n",
              "  <svg xmlns=\"http://www.w3.org/2000/svg\" height=\"24px\"viewBox=\"0 0 24 24\"\n",
              "       width=\"24px\">\n",
              "    <path d=\"M0 0h24v24H0V0z\" fill=\"none\"/>\n",
              "    <path d=\"M18.56 5.44l.94 2.06.94-2.06 2.06-.94-2.06-.94-.94-2.06-.94 2.06-2.06.94zm-11 1L8.5 8.5l.94-2.06 2.06-.94-2.06-.94L8.5 2.5l-.94 2.06-2.06.94zm10 10l.94 2.06.94-2.06 2.06-.94-2.06-.94-.94-2.06-.94 2.06-2.06.94z\"/><path d=\"M17.41 7.96l-1.37-1.37c-.4-.4-.92-.59-1.43-.59-.52 0-1.04.2-1.43.59L10.3 9.45l-7.72 7.72c-.78.78-.78 2.05 0 2.83L4 21.41c.39.39.9.59 1.41.59.51 0 1.02-.2 1.41-.59l7.78-7.78 2.81-2.81c.8-.78.8-2.07 0-2.86zM5.41 20L4 18.59l7.72-7.72 1.47 1.35L5.41 20z\"/>\n",
              "  </svg>\n",
              "      </button>\n",
              "      \n",
              "  <style>\n",
              "    .colab-df-container {\n",
              "      display:flex;\n",
              "      flex-wrap:wrap;\n",
              "      gap: 12px;\n",
              "    }\n",
              "\n",
              "    .colab-df-convert {\n",
              "      background-color: #E8F0FE;\n",
              "      border: none;\n",
              "      border-radius: 50%;\n",
              "      cursor: pointer;\n",
              "      display: none;\n",
              "      fill: #1967D2;\n",
              "      height: 32px;\n",
              "      padding: 0 0 0 0;\n",
              "      width: 32px;\n",
              "    }\n",
              "\n",
              "    .colab-df-convert:hover {\n",
              "      background-color: #E2EBFA;\n",
              "      box-shadow: 0px 1px 2px rgba(60, 64, 67, 0.3), 0px 1px 3px 1px rgba(60, 64, 67, 0.15);\n",
              "      fill: #174EA6;\n",
              "    }\n",
              "\n",
              "    [theme=dark] .colab-df-convert {\n",
              "      background-color: #3B4455;\n",
              "      fill: #D2E3FC;\n",
              "    }\n",
              "\n",
              "    [theme=dark] .colab-df-convert:hover {\n",
              "      background-color: #434B5C;\n",
              "      box-shadow: 0px 1px 3px 1px rgba(0, 0, 0, 0.15);\n",
              "      filter: drop-shadow(0px 1px 2px rgba(0, 0, 0, 0.3));\n",
              "      fill: #FFFFFF;\n",
              "    }\n",
              "  </style>\n",
              "\n",
              "      <script>\n",
              "        const buttonEl =\n",
              "          document.querySelector('#df-a55c5088-7117-4896-9104-cd793d22bf79 button.colab-df-convert');\n",
              "        buttonEl.style.display =\n",
              "          google.colab.kernel.accessAllowed ? 'block' : 'none';\n",
              "\n",
              "        async function convertToInteractive(key) {\n",
              "          const element = document.querySelector('#df-a55c5088-7117-4896-9104-cd793d22bf79');\n",
              "          const dataTable =\n",
              "            await google.colab.kernel.invokeFunction('convertToInteractive',\n",
              "                                                     [key], {});\n",
              "          if (!dataTable) return;\n",
              "\n",
              "          const docLinkHtml = 'Like what you see? Visit the ' +\n",
              "            '<a target=\"_blank\" href=https://colab.research.google.com/notebooks/data_table.ipynb>data table notebook</a>'\n",
              "            + ' to learn more about interactive tables.';\n",
              "          element.innerHTML = '';\n",
              "          dataTable['output_type'] = 'display_data';\n",
              "          await google.colab.output.renderOutput(dataTable, element);\n",
              "          const docLink = document.createElement('div');\n",
              "          docLink.innerHTML = docLinkHtml;\n",
              "          element.appendChild(docLink);\n",
              "        }\n",
              "      </script>\n",
              "    </div>\n",
              "  </div>\n",
              "  "
            ]
          },
          "metadata": {},
          "execution_count": 6
        }
      ]
    },
    {
      "cell_type": "markdown",
      "source": [
        "## **Preparing the Dataset**"
      ],
      "metadata": {
        "id": "TANB4CU0OQlz"
      }
    },
    {
      "cell_type": "code",
      "source": [
        "# Check the shape of the dataframe\n",
        "df.shape"
      ],
      "metadata": {
        "colab": {
          "base_uri": "https://localhost:8080/"
        },
        "id": "VeUg656RwEdL",
        "outputId": "26ad7884-c014-4b6e-8390-12fd977d398f"
      },
      "execution_count": null,
      "outputs": [
        {
          "output_type": "execute_result",
          "data": {
            "text/plain": [
              "(3333, 20)"
            ]
          },
          "metadata": {},
          "execution_count": 7
        }
      ]
    },
    {
      "cell_type": "code",
      "source": [
        "df.info()"
      ],
      "metadata": {
        "colab": {
          "base_uri": "https://localhost:8080/"
        },
        "id": "iHQdilZXwKna",
        "outputId": "66dad021-0f9d-4ea3-a221-91c02b7a28c7"
      },
      "execution_count": null,
      "outputs": [
        {
          "output_type": "stream",
          "name": "stdout",
          "text": [
            "<class 'pandas.core.frame.DataFrame'>\n",
            "RangeIndex: 3333 entries, 0 to 3332\n",
            "Data columns (total 20 columns):\n",
            " #   Column                               Non-Null Count  Dtype \n",
            "---  ------                               --------------  ----- \n",
            " 0   account length                       3333 non-null   int64 \n",
            " 1   location code                        3333 non-null   int64 \n",
            " 2   user id                              3333 non-null   int64 \n",
            " 3   credit card info save                3333 non-null   object\n",
            " 4   push status                          3333 non-null   object\n",
            " 5   add to wishlist                      3333 non-null   int64 \n",
            " 6   desktop sessions                     3333 non-null   int64 \n",
            " 7   app sessions                         3333 non-null   int64 \n",
            " 8   desktop transactions                 3333 non-null   int64 \n",
            " 9   total product detail views           3333 non-null   int64 \n",
            " 10  session duration                     3333 non-null   int64 \n",
            " 11  promotion clicks                     3333 non-null   int64 \n",
            " 12  avg order value                      3333 non-null   object\n",
            " 13  sale product views                   3333 non-null   int64 \n",
            " 14  discount rate per visited products   3333 non-null   object\n",
            " 15  product detail view per app session  3333 non-null   object\n",
            " 16  app transactions                     3333 non-null   int64 \n",
            " 17  add to cart per session              3333 non-null   object\n",
            " 18  customer service calls               3333 non-null   int64 \n",
            " 19  churn                                3333 non-null   int64 \n",
            "dtypes: int64(14), object(6)\n",
            "memory usage: 520.9+ KB\n"
          ]
        }
      ]
    },
    {
      "cell_type": "markdown",
      "source": [
        "As we can see, the column `location code` has `integer` values, which is unnecessary. The column contains codes that should be treated as categorical variables. So at first, we have changed its data type from `integer` to `string`."
      ],
      "metadata": {
        "id": "uO5Nd-SgOVxv"
      }
    },
    {
      "cell_type": "code",
      "source": [
        "# Checking the unique values\n",
        "df[\"location code\"].unique()"
      ],
      "metadata": {
        "colab": {
          "base_uri": "https://localhost:8080/"
        },
        "id": "8j7cMLIxwPMK",
        "outputId": "2ea8cf2d-af45-43fb-b457-b2ede805533d"
      },
      "execution_count": null,
      "outputs": [
        {
          "output_type": "execute_result",
          "data": {
            "text/plain": [
              "array([415, 408, 510])"
            ]
          },
          "metadata": {},
          "execution_count": 9
        }
      ]
    },
    {
      "cell_type": "code",
      "source": [
        "# Changing the data type of the location code column\n",
        "df[\"location code\"] = df[\"location code\"].astype(str)"
      ],
      "metadata": {
        "id": "IR6uZixRwgMb"
      },
      "execution_count": null,
      "outputs": []
    },
    {
      "cell_type": "markdown",
      "source": [
        "We can also see that two columns- `credit card info save` and `push status` have `yes` and `no`, we can treat these values as categorical values, but let's change the values to `1` and `0`, instead."
      ],
      "metadata": {
        "id": "dXWttRPfO9Bd"
      }
    },
    {
      "cell_type": "code",
      "source": [
        "df[\"credit card info save\"].unique()"
      ],
      "metadata": {
        "colab": {
          "base_uri": "https://localhost:8080/"
        },
        "id": "HMETUU5dwuk4",
        "outputId": "e74ed9d2-6918-4075-abe4-5f4c8a56cc11"
      },
      "execution_count": null,
      "outputs": [
        {
          "output_type": "execute_result",
          "data": {
            "text/plain": [
              "array(['no', 'yes'], dtype=object)"
            ]
          },
          "metadata": {},
          "execution_count": 11
        }
      ]
    },
    {
      "cell_type": "code",
      "source": [
        "df[\"credit card info save\"].unique()"
      ],
      "metadata": {
        "colab": {
          "base_uri": "https://localhost:8080/"
        },
        "id": "I2VvaoH6PTQx",
        "outputId": "acbd0315-d520-4275-932d-cf36b015ab31"
      },
      "execution_count": null,
      "outputs": [
        {
          "output_type": "execute_result",
          "data": {
            "text/plain": [
              "array(['no', 'yes'], dtype=object)"
            ]
          },
          "metadata": {},
          "execution_count": 12
        }
      ]
    },
    {
      "cell_type": "code",
      "source": [
        "# Changing the values from yes and no to 1 and 0\n",
        "df[\"credit card info save\"] = df[\"credit card info save\"].replace({\"yes\": 1, \"no\": 0})\n",
        "df[\"push status\"] = df[\"push status\"].replace({\"yes\": 1, \"no\": 0})"
      ],
      "metadata": {
        "id": "l13yclDbxB8k"
      },
      "execution_count": null,
      "outputs": []
    },
    {
      "cell_type": "markdown",
      "source": [
        "We have also noticed that the following columns contain `string` values that includes `commas` which should rather be `dots`:\n",
        "\n",
        "\n",
        "*   avg order value\n",
        "*   discount rate per visited products\n",
        "*   product detail view per app session\n",
        "*   add to cart per session\n",
        "\n",
        "\n",
        "\n",
        "So we changed them and also change the data type to `float`."
      ],
      "metadata": {
        "id": "SCb1B8kNPcWS"
      }
    },
    {
      "cell_type": "code",
      "source": [
        "# Handling the four columns with string values containing commas in it\n",
        "df[\"avg order value\"] = df[\"avg order value\"].str.replace(',','.').astype(float)\n",
        "df[\"discount rate per visited products\"] = df[\"discount rate per visited products\"].str.replace(',','.').astype(float)\n",
        "df[\"product detail view per app session\"] = df[\"product detail view per app session\"].str.replace(',','.').astype(float)\n",
        "df[\"add to cart per session\"] = df[\"add to cart per session\"].str.replace(',','.').astype(float)"
      ],
      "metadata": {
        "id": "UEROc472yEJK"
      },
      "execution_count": null,
      "outputs": []
    },
    {
      "cell_type": "markdown",
      "source": [
        "Now, we handled the categorical values for the column `location code` using `get_dummies` function from `pandas`"
      ],
      "metadata": {
        "id": "fgSZ8SnzQCVd"
      }
    },
    {
      "cell_type": "code",
      "source": [
        "# Handling the categorical values using get_dummies\n",
        "df = pd.get_dummies(df, columns = [\"location code\"])"
      ],
      "metadata": {
        "id": "GD-w1Gq0yzZf"
      },
      "execution_count": null,
      "outputs": []
    },
    {
      "cell_type": "markdown",
      "source": [
        "The column `user id` is irrelevant. So we better drop it!"
      ],
      "metadata": {
        "id": "Nw5I1vyAQZE4"
      }
    },
    {
      "cell_type": "code",
      "source": [
        "# Dropping the column user id\n",
        "df = df.drop(\"user id\", axis = 1)"
      ],
      "metadata": {
        "id": "j3ATBHNWzYBC"
      },
      "execution_count": null,
      "outputs": []
    },
    {
      "cell_type": "code",
      "source": [
        "df.head()"
      ],
      "metadata": {
        "colab": {
          "base_uri": "https://localhost:8080/",
          "height": 369
        },
        "id": "gWDB6Dz9zjFM",
        "outputId": "2302763f-858e-4c73-bd95-197af248b2c3"
      },
      "execution_count": null,
      "outputs": [
        {
          "output_type": "execute_result",
          "data": {
            "text/plain": [
              "   account length  credit card info save  push status  add to wishlist  \\\n",
              "0             128                      0            1               25   \n",
              "1             107                      0            1               26   \n",
              "2             137                      0            0                0   \n",
              "3              84                      1            0                0   \n",
              "4              75                      1            0                0   \n",
              "\n",
              "   desktop sessions  app sessions  desktop transactions  \\\n",
              "0               265            45                    17   \n",
              "1               162            27                    17   \n",
              "2               243            41                    10   \n",
              "3               299            51                     5   \n",
              "4               167            28                    13   \n",
              "\n",
              "   total product detail views  session duration  promotion clicks  ...  \\\n",
              "0                         110               197                87  ...   \n",
              "1                         123               196               103  ...   \n",
              "2                         114               121               110  ...   \n",
              "3                          71                62                88  ...   \n",
              "4                         113               148               122  ...   \n",
              "\n",
              "   sale product views  discount rate per visited products  \\\n",
              "0                  91                               11.01   \n",
              "1                 103                               11.45   \n",
              "2                 104                                7.32   \n",
              "3                  89                                8.86   \n",
              "4                 121                                8.41   \n",
              "\n",
              "   product detail view per app session  app transactions  \\\n",
              "0                                 10.0                 3   \n",
              "1                                 13.7                 3   \n",
              "2                                 12.2                 5   \n",
              "3                                  6.6                 7   \n",
              "4                                 10.1                 3   \n",
              "\n",
              "   add to cart per session  customer service calls  churn  location code_408  \\\n",
              "0                     2.70                       1      0                  0   \n",
              "1                     3.70                       1      0                  0   \n",
              "2                     3.29                       0      0                  0   \n",
              "3                     1.78                       2      0                  1   \n",
              "4                     2.73                       3      0                  0   \n",
              "\n",
              "   location code_415  location code_510  \n",
              "0                  1                  0  \n",
              "1                  1                  0  \n",
              "2                  1                  0  \n",
              "3                  0                  0  \n",
              "4                  1                  0  \n",
              "\n",
              "[5 rows x 21 columns]"
            ],
            "text/html": [
              "\n",
              "  <div id=\"df-bef12b52-676a-47ef-a0a2-f441d259d323\">\n",
              "    <div class=\"colab-df-container\">\n",
              "      <div>\n",
              "<style scoped>\n",
              "    .dataframe tbody tr th:only-of-type {\n",
              "        vertical-align: middle;\n",
              "    }\n",
              "\n",
              "    .dataframe tbody tr th {\n",
              "        vertical-align: top;\n",
              "    }\n",
              "\n",
              "    .dataframe thead th {\n",
              "        text-align: right;\n",
              "    }\n",
              "</style>\n",
              "<table border=\"1\" class=\"dataframe\">\n",
              "  <thead>\n",
              "    <tr style=\"text-align: right;\">\n",
              "      <th></th>\n",
              "      <th>account length</th>\n",
              "      <th>credit card info save</th>\n",
              "      <th>push status</th>\n",
              "      <th>add to wishlist</th>\n",
              "      <th>desktop sessions</th>\n",
              "      <th>app sessions</th>\n",
              "      <th>desktop transactions</th>\n",
              "      <th>total product detail views</th>\n",
              "      <th>session duration</th>\n",
              "      <th>promotion clicks</th>\n",
              "      <th>...</th>\n",
              "      <th>sale product views</th>\n",
              "      <th>discount rate per visited products</th>\n",
              "      <th>product detail view per app session</th>\n",
              "      <th>app transactions</th>\n",
              "      <th>add to cart per session</th>\n",
              "      <th>customer service calls</th>\n",
              "      <th>churn</th>\n",
              "      <th>location code_408</th>\n",
              "      <th>location code_415</th>\n",
              "      <th>location code_510</th>\n",
              "    </tr>\n",
              "  </thead>\n",
              "  <tbody>\n",
              "    <tr>\n",
              "      <th>0</th>\n",
              "      <td>128</td>\n",
              "      <td>0</td>\n",
              "      <td>1</td>\n",
              "      <td>25</td>\n",
              "      <td>265</td>\n",
              "      <td>45</td>\n",
              "      <td>17</td>\n",
              "      <td>110</td>\n",
              "      <td>197</td>\n",
              "      <td>87</td>\n",
              "      <td>...</td>\n",
              "      <td>91</td>\n",
              "      <td>11.01</td>\n",
              "      <td>10.0</td>\n",
              "      <td>3</td>\n",
              "      <td>2.70</td>\n",
              "      <td>1</td>\n",
              "      <td>0</td>\n",
              "      <td>0</td>\n",
              "      <td>1</td>\n",
              "      <td>0</td>\n",
              "    </tr>\n",
              "    <tr>\n",
              "      <th>1</th>\n",
              "      <td>107</td>\n",
              "      <td>0</td>\n",
              "      <td>1</td>\n",
              "      <td>26</td>\n",
              "      <td>162</td>\n",
              "      <td>27</td>\n",
              "      <td>17</td>\n",
              "      <td>123</td>\n",
              "      <td>196</td>\n",
              "      <td>103</td>\n",
              "      <td>...</td>\n",
              "      <td>103</td>\n",
              "      <td>11.45</td>\n",
              "      <td>13.7</td>\n",
              "      <td>3</td>\n",
              "      <td>3.70</td>\n",
              "      <td>1</td>\n",
              "      <td>0</td>\n",
              "      <td>0</td>\n",
              "      <td>1</td>\n",
              "      <td>0</td>\n",
              "    </tr>\n",
              "    <tr>\n",
              "      <th>2</th>\n",
              "      <td>137</td>\n",
              "      <td>0</td>\n",
              "      <td>0</td>\n",
              "      <td>0</td>\n",
              "      <td>243</td>\n",
              "      <td>41</td>\n",
              "      <td>10</td>\n",
              "      <td>114</td>\n",
              "      <td>121</td>\n",
              "      <td>110</td>\n",
              "      <td>...</td>\n",
              "      <td>104</td>\n",
              "      <td>7.32</td>\n",
              "      <td>12.2</td>\n",
              "      <td>5</td>\n",
              "      <td>3.29</td>\n",
              "      <td>0</td>\n",
              "      <td>0</td>\n",
              "      <td>0</td>\n",
              "      <td>1</td>\n",
              "      <td>0</td>\n",
              "    </tr>\n",
              "    <tr>\n",
              "      <th>3</th>\n",
              "      <td>84</td>\n",
              "      <td>1</td>\n",
              "      <td>0</td>\n",
              "      <td>0</td>\n",
              "      <td>299</td>\n",
              "      <td>51</td>\n",
              "      <td>5</td>\n",
              "      <td>71</td>\n",
              "      <td>62</td>\n",
              "      <td>88</td>\n",
              "      <td>...</td>\n",
              "      <td>89</td>\n",
              "      <td>8.86</td>\n",
              "      <td>6.6</td>\n",
              "      <td>7</td>\n",
              "      <td>1.78</td>\n",
              "      <td>2</td>\n",
              "      <td>0</td>\n",
              "      <td>1</td>\n",
              "      <td>0</td>\n",
              "      <td>0</td>\n",
              "    </tr>\n",
              "    <tr>\n",
              "      <th>4</th>\n",
              "      <td>75</td>\n",
              "      <td>1</td>\n",
              "      <td>0</td>\n",
              "      <td>0</td>\n",
              "      <td>167</td>\n",
              "      <td>28</td>\n",
              "      <td>13</td>\n",
              "      <td>113</td>\n",
              "      <td>148</td>\n",
              "      <td>122</td>\n",
              "      <td>...</td>\n",
              "      <td>121</td>\n",
              "      <td>8.41</td>\n",
              "      <td>10.1</td>\n",
              "      <td>3</td>\n",
              "      <td>2.73</td>\n",
              "      <td>3</td>\n",
              "      <td>0</td>\n",
              "      <td>0</td>\n",
              "      <td>1</td>\n",
              "      <td>0</td>\n",
              "    </tr>\n",
              "  </tbody>\n",
              "</table>\n",
              "<p>5 rows × 21 columns</p>\n",
              "</div>\n",
              "      <button class=\"colab-df-convert\" onclick=\"convertToInteractive('df-bef12b52-676a-47ef-a0a2-f441d259d323')\"\n",
              "              title=\"Convert this dataframe to an interactive table.\"\n",
              "              style=\"display:none;\">\n",
              "        \n",
              "  <svg xmlns=\"http://www.w3.org/2000/svg\" height=\"24px\"viewBox=\"0 0 24 24\"\n",
              "       width=\"24px\">\n",
              "    <path d=\"M0 0h24v24H0V0z\" fill=\"none\"/>\n",
              "    <path d=\"M18.56 5.44l.94 2.06.94-2.06 2.06-.94-2.06-.94-.94-2.06-.94 2.06-2.06.94zm-11 1L8.5 8.5l.94-2.06 2.06-.94-2.06-.94L8.5 2.5l-.94 2.06-2.06.94zm10 10l.94 2.06.94-2.06 2.06-.94-2.06-.94-.94-2.06-.94 2.06-2.06.94z\"/><path d=\"M17.41 7.96l-1.37-1.37c-.4-.4-.92-.59-1.43-.59-.52 0-1.04.2-1.43.59L10.3 9.45l-7.72 7.72c-.78.78-.78 2.05 0 2.83L4 21.41c.39.39.9.59 1.41.59.51 0 1.02-.2 1.41-.59l7.78-7.78 2.81-2.81c.8-.78.8-2.07 0-2.86zM5.41 20L4 18.59l7.72-7.72 1.47 1.35L5.41 20z\"/>\n",
              "  </svg>\n",
              "      </button>\n",
              "      \n",
              "  <style>\n",
              "    .colab-df-container {\n",
              "      display:flex;\n",
              "      flex-wrap:wrap;\n",
              "      gap: 12px;\n",
              "    }\n",
              "\n",
              "    .colab-df-convert {\n",
              "      background-color: #E8F0FE;\n",
              "      border: none;\n",
              "      border-radius: 50%;\n",
              "      cursor: pointer;\n",
              "      display: none;\n",
              "      fill: #1967D2;\n",
              "      height: 32px;\n",
              "      padding: 0 0 0 0;\n",
              "      width: 32px;\n",
              "    }\n",
              "\n",
              "    .colab-df-convert:hover {\n",
              "      background-color: #E2EBFA;\n",
              "      box-shadow: 0px 1px 2px rgba(60, 64, 67, 0.3), 0px 1px 3px 1px rgba(60, 64, 67, 0.15);\n",
              "      fill: #174EA6;\n",
              "    }\n",
              "\n",
              "    [theme=dark] .colab-df-convert {\n",
              "      background-color: #3B4455;\n",
              "      fill: #D2E3FC;\n",
              "    }\n",
              "\n",
              "    [theme=dark] .colab-df-convert:hover {\n",
              "      background-color: #434B5C;\n",
              "      box-shadow: 0px 1px 3px 1px rgba(0, 0, 0, 0.15);\n",
              "      filter: drop-shadow(0px 1px 2px rgba(0, 0, 0, 0.3));\n",
              "      fill: #FFFFFF;\n",
              "    }\n",
              "  </style>\n",
              "\n",
              "      <script>\n",
              "        const buttonEl =\n",
              "          document.querySelector('#df-bef12b52-676a-47ef-a0a2-f441d259d323 button.colab-df-convert');\n",
              "        buttonEl.style.display =\n",
              "          google.colab.kernel.accessAllowed ? 'block' : 'none';\n",
              "\n",
              "        async function convertToInteractive(key) {\n",
              "          const element = document.querySelector('#df-bef12b52-676a-47ef-a0a2-f441d259d323');\n",
              "          const dataTable =\n",
              "            await google.colab.kernel.invokeFunction('convertToInteractive',\n",
              "                                                     [key], {});\n",
              "          if (!dataTable) return;\n",
              "\n",
              "          const docLinkHtml = 'Like what you see? Visit the ' +\n",
              "            '<a target=\"_blank\" href=https://colab.research.google.com/notebooks/data_table.ipynb>data table notebook</a>'\n",
              "            + ' to learn more about interactive tables.';\n",
              "          element.innerHTML = '';\n",
              "          dataTable['output_type'] = 'display_data';\n",
              "          await google.colab.output.renderOutput(dataTable, element);\n",
              "          const docLink = document.createElement('div');\n",
              "          docLink.innerHTML = docLinkHtml;\n",
              "          element.appendChild(docLink);\n",
              "        }\n",
              "      </script>\n",
              "    </div>\n",
              "  </div>\n",
              "  "
            ]
          },
          "metadata": {},
          "execution_count": 17
        }
      ]
    },
    {
      "cell_type": "markdown",
      "source": [
        "Everything looked fine at this stage. Except for the fact that we still needed to scale our data for some columns. We have used `Normalizer()` from `Scikit-learn` library."
      ],
      "metadata": {
        "id": "Qqp2JWZVQi9c"
      }
    },
    {
      "cell_type": "code",
      "source": [
        "# Check the column names\n",
        "df.columns"
      ],
      "metadata": {
        "colab": {
          "base_uri": "https://localhost:8080/"
        },
        "id": "2jXskEeJzl5r",
        "outputId": "434672c4-7972-49fa-c736-119b8be9a7ef"
      },
      "execution_count": null,
      "outputs": [
        {
          "output_type": "execute_result",
          "data": {
            "text/plain": [
              "Index(['account length', 'credit card info save', 'push status',\n",
              "       'add to wishlist', 'desktop sessions', 'app sessions',\n",
              "       'desktop transactions', 'total product detail views',\n",
              "       'session duration', 'promotion clicks', 'avg order value',\n",
              "       'sale product views', 'discount rate per visited products',\n",
              "       'product detail view per app session', 'app transactions',\n",
              "       'add to cart per session', 'customer service calls', 'churn',\n",
              "       'location code_408', 'location code_415', 'location code_510'],\n",
              "      dtype='object')"
            ]
          },
          "metadata": {},
          "execution_count": 18
        }
      ]
    },
    {
      "cell_type": "code",
      "source": [
        "# Normalizing some column values\n",
        "cols_to_scale = ['account length',\n",
        "       'add to wishlist', 'desktop sessions', 'app sessions',\n",
        "       'desktop transactions', 'total product detail views',\n",
        "       'session duration', 'promotion clicks', 'avg order value',\n",
        "       'sale product views', 'discount rate per visited products',\n",
        "       'product detail view per app session', 'app transactions',\n",
        "       'add to cart per session', 'customer service calls']\n",
        "scaler = Normalizer()\n",
        "scaled_data =scaler.fit_transform(df[cols_to_scale])\n",
        "scaled_df = pd.DataFrame(scaled_data, index = df.index, columns = cols_to_scale)"
      ],
      "metadata": {
        "id": "dGVfNt8gz2MA"
      },
      "execution_count": null,
      "outputs": []
    },
    {
      "cell_type": "code",
      "source": [
        "scaled_df.head()"
      ],
      "metadata": {
        "colab": {
          "base_uri": "https://localhost:8080/",
          "height": 320
        },
        "id": "naEnHf770yuP",
        "outputId": "486320e5-d489-47fb-e3db-91c1317d0fe1"
      },
      "execution_count": null,
      "outputs": [
        {
          "output_type": "execute_result",
          "data": {
            "text/plain": [
              "   account length  add to wishlist  desktop sessions  app sessions  \\\n",
              "0        0.275142         0.053739          0.569631      0.096730   \n",
              "1        0.252755         0.061417          0.382676      0.063779   \n",
              "2        0.345945         0.000000          0.613611      0.103531   \n",
              "3        0.208327         0.000000          0.741543      0.126484   \n",
              "4        0.205041         0.000000          0.456559      0.076549   \n",
              "\n",
              "   desktop transactions  total product detail views  session duration  \\\n",
              "0              0.036542                    0.236451          0.423461   \n",
              "1              0.040157                    0.290551          0.462991   \n",
              "2              0.025251                    0.287867          0.305543   \n",
              "3              0.012400                    0.176086          0.153765   \n",
              "4              0.035541                    0.308929          0.404615   \n",
              "\n",
              "   promotion clicks  avg order value  sale product views  \\\n",
              "0          0.187011         0.525995            0.195609   \n",
              "1          0.243307         0.600944            0.243307   \n",
              "2          0.277766         0.410589            0.262615   \n",
              "3          0.218247         0.488327            0.220727   \n",
              "4          0.333534         0.510963            0.330800   \n",
              "\n",
              "   discount rate per visited products  product detail view per app session  \\\n",
              "0                            0.023667                             0.021496   \n",
              "1                            0.027047                             0.032362   \n",
              "2                            0.018484                             0.030807   \n",
              "3                            0.021973                             0.016369   \n",
              "4                            0.022992                             0.027612   \n",
              "\n",
              "   app transactions  add to cart per session  customer service calls  \n",
              "0          0.006449                 0.005804                0.002150  \n",
              "1          0.007087                 0.008740                0.002362  \n",
              "2          0.012626                 0.008308                0.000000  \n",
              "3          0.017361                 0.004415                0.004960  \n",
              "4          0.008202                 0.007464                0.008202  "
            ],
            "text/html": [
              "\n",
              "  <div id=\"df-ff186ac0-a74e-4f59-999c-b054b02115c8\">\n",
              "    <div class=\"colab-df-container\">\n",
              "      <div>\n",
              "<style scoped>\n",
              "    .dataframe tbody tr th:only-of-type {\n",
              "        vertical-align: middle;\n",
              "    }\n",
              "\n",
              "    .dataframe tbody tr th {\n",
              "        vertical-align: top;\n",
              "    }\n",
              "\n",
              "    .dataframe thead th {\n",
              "        text-align: right;\n",
              "    }\n",
              "</style>\n",
              "<table border=\"1\" class=\"dataframe\">\n",
              "  <thead>\n",
              "    <tr style=\"text-align: right;\">\n",
              "      <th></th>\n",
              "      <th>account length</th>\n",
              "      <th>add to wishlist</th>\n",
              "      <th>desktop sessions</th>\n",
              "      <th>app sessions</th>\n",
              "      <th>desktop transactions</th>\n",
              "      <th>total product detail views</th>\n",
              "      <th>session duration</th>\n",
              "      <th>promotion clicks</th>\n",
              "      <th>avg order value</th>\n",
              "      <th>sale product views</th>\n",
              "      <th>discount rate per visited products</th>\n",
              "      <th>product detail view per app session</th>\n",
              "      <th>app transactions</th>\n",
              "      <th>add to cart per session</th>\n",
              "      <th>customer service calls</th>\n",
              "    </tr>\n",
              "  </thead>\n",
              "  <tbody>\n",
              "    <tr>\n",
              "      <th>0</th>\n",
              "      <td>0.275142</td>\n",
              "      <td>0.053739</td>\n",
              "      <td>0.569631</td>\n",
              "      <td>0.096730</td>\n",
              "      <td>0.036542</td>\n",
              "      <td>0.236451</td>\n",
              "      <td>0.423461</td>\n",
              "      <td>0.187011</td>\n",
              "      <td>0.525995</td>\n",
              "      <td>0.195609</td>\n",
              "      <td>0.023667</td>\n",
              "      <td>0.021496</td>\n",
              "      <td>0.006449</td>\n",
              "      <td>0.005804</td>\n",
              "      <td>0.002150</td>\n",
              "    </tr>\n",
              "    <tr>\n",
              "      <th>1</th>\n",
              "      <td>0.252755</td>\n",
              "      <td>0.061417</td>\n",
              "      <td>0.382676</td>\n",
              "      <td>0.063779</td>\n",
              "      <td>0.040157</td>\n",
              "      <td>0.290551</td>\n",
              "      <td>0.462991</td>\n",
              "      <td>0.243307</td>\n",
              "      <td>0.600944</td>\n",
              "      <td>0.243307</td>\n",
              "      <td>0.027047</td>\n",
              "      <td>0.032362</td>\n",
              "      <td>0.007087</td>\n",
              "      <td>0.008740</td>\n",
              "      <td>0.002362</td>\n",
              "    </tr>\n",
              "    <tr>\n",
              "      <th>2</th>\n",
              "      <td>0.345945</td>\n",
              "      <td>0.000000</td>\n",
              "      <td>0.613611</td>\n",
              "      <td>0.103531</td>\n",
              "      <td>0.025251</td>\n",
              "      <td>0.287867</td>\n",
              "      <td>0.305543</td>\n",
              "      <td>0.277766</td>\n",
              "      <td>0.410589</td>\n",
              "      <td>0.262615</td>\n",
              "      <td>0.018484</td>\n",
              "      <td>0.030807</td>\n",
              "      <td>0.012626</td>\n",
              "      <td>0.008308</td>\n",
              "      <td>0.000000</td>\n",
              "    </tr>\n",
              "    <tr>\n",
              "      <th>3</th>\n",
              "      <td>0.208327</td>\n",
              "      <td>0.000000</td>\n",
              "      <td>0.741543</td>\n",
              "      <td>0.126484</td>\n",
              "      <td>0.012400</td>\n",
              "      <td>0.176086</td>\n",
              "      <td>0.153765</td>\n",
              "      <td>0.218247</td>\n",
              "      <td>0.488327</td>\n",
              "      <td>0.220727</td>\n",
              "      <td>0.021973</td>\n",
              "      <td>0.016369</td>\n",
              "      <td>0.017361</td>\n",
              "      <td>0.004415</td>\n",
              "      <td>0.004960</td>\n",
              "    </tr>\n",
              "    <tr>\n",
              "      <th>4</th>\n",
              "      <td>0.205041</td>\n",
              "      <td>0.000000</td>\n",
              "      <td>0.456559</td>\n",
              "      <td>0.076549</td>\n",
              "      <td>0.035541</td>\n",
              "      <td>0.308929</td>\n",
              "      <td>0.404615</td>\n",
              "      <td>0.333534</td>\n",
              "      <td>0.510963</td>\n",
              "      <td>0.330800</td>\n",
              "      <td>0.022992</td>\n",
              "      <td>0.027612</td>\n",
              "      <td>0.008202</td>\n",
              "      <td>0.007464</td>\n",
              "      <td>0.008202</td>\n",
              "    </tr>\n",
              "  </tbody>\n",
              "</table>\n",
              "</div>\n",
              "      <button class=\"colab-df-convert\" onclick=\"convertToInteractive('df-ff186ac0-a74e-4f59-999c-b054b02115c8')\"\n",
              "              title=\"Convert this dataframe to an interactive table.\"\n",
              "              style=\"display:none;\">\n",
              "        \n",
              "  <svg xmlns=\"http://www.w3.org/2000/svg\" height=\"24px\"viewBox=\"0 0 24 24\"\n",
              "       width=\"24px\">\n",
              "    <path d=\"M0 0h24v24H0V0z\" fill=\"none\"/>\n",
              "    <path d=\"M18.56 5.44l.94 2.06.94-2.06 2.06-.94-2.06-.94-.94-2.06-.94 2.06-2.06.94zm-11 1L8.5 8.5l.94-2.06 2.06-.94-2.06-.94L8.5 2.5l-.94 2.06-2.06.94zm10 10l.94 2.06.94-2.06 2.06-.94-2.06-.94-.94-2.06-.94 2.06-2.06.94z\"/><path d=\"M17.41 7.96l-1.37-1.37c-.4-.4-.92-.59-1.43-.59-.52 0-1.04.2-1.43.59L10.3 9.45l-7.72 7.72c-.78.78-.78 2.05 0 2.83L4 21.41c.39.39.9.59 1.41.59.51 0 1.02-.2 1.41-.59l7.78-7.78 2.81-2.81c.8-.78.8-2.07 0-2.86zM5.41 20L4 18.59l7.72-7.72 1.47 1.35L5.41 20z\"/>\n",
              "  </svg>\n",
              "      </button>\n",
              "      \n",
              "  <style>\n",
              "    .colab-df-container {\n",
              "      display:flex;\n",
              "      flex-wrap:wrap;\n",
              "      gap: 12px;\n",
              "    }\n",
              "\n",
              "    .colab-df-convert {\n",
              "      background-color: #E8F0FE;\n",
              "      border: none;\n",
              "      border-radius: 50%;\n",
              "      cursor: pointer;\n",
              "      display: none;\n",
              "      fill: #1967D2;\n",
              "      height: 32px;\n",
              "      padding: 0 0 0 0;\n",
              "      width: 32px;\n",
              "    }\n",
              "\n",
              "    .colab-df-convert:hover {\n",
              "      background-color: #E2EBFA;\n",
              "      box-shadow: 0px 1px 2px rgba(60, 64, 67, 0.3), 0px 1px 3px 1px rgba(60, 64, 67, 0.15);\n",
              "      fill: #174EA6;\n",
              "    }\n",
              "\n",
              "    [theme=dark] .colab-df-convert {\n",
              "      background-color: #3B4455;\n",
              "      fill: #D2E3FC;\n",
              "    }\n",
              "\n",
              "    [theme=dark] .colab-df-convert:hover {\n",
              "      background-color: #434B5C;\n",
              "      box-shadow: 0px 1px 3px 1px rgba(0, 0, 0, 0.15);\n",
              "      filter: drop-shadow(0px 1px 2px rgba(0, 0, 0, 0.3));\n",
              "      fill: #FFFFFF;\n",
              "    }\n",
              "  </style>\n",
              "\n",
              "      <script>\n",
              "        const buttonEl =\n",
              "          document.querySelector('#df-ff186ac0-a74e-4f59-999c-b054b02115c8 button.colab-df-convert');\n",
              "        buttonEl.style.display =\n",
              "          google.colab.kernel.accessAllowed ? 'block' : 'none';\n",
              "\n",
              "        async function convertToInteractive(key) {\n",
              "          const element = document.querySelector('#df-ff186ac0-a74e-4f59-999c-b054b02115c8');\n",
              "          const dataTable =\n",
              "            await google.colab.kernel.invokeFunction('convertToInteractive',\n",
              "                                                     [key], {});\n",
              "          if (!dataTable) return;\n",
              "\n",
              "          const docLinkHtml = 'Like what you see? Visit the ' +\n",
              "            '<a target=\"_blank\" href=https://colab.research.google.com/notebooks/data_table.ipynb>data table notebook</a>'\n",
              "            + ' to learn more about interactive tables.';\n",
              "          element.innerHTML = '';\n",
              "          dataTable['output_type'] = 'display_data';\n",
              "          await google.colab.output.renderOutput(dataTable, element);\n",
              "          const docLink = document.createElement('div');\n",
              "          docLink.innerHTML = docLinkHtml;\n",
              "          element.appendChild(docLink);\n",
              "        }\n",
              "      </script>\n",
              "    </div>\n",
              "  </div>\n",
              "  "
            ]
          },
          "metadata": {},
          "execution_count": 20
        }
      ]
    },
    {
      "cell_type": "code",
      "source": [
        "# Merge the normalized dataframe with the original dataframe\n",
        "df = df.drop(cols_to_scale, axis = 1)\n",
        "df = pd.merge(df, scaled_df, left_index=True, right_index=True)"
      ],
      "metadata": {
        "id": "ywc7LMff01FL"
      },
      "execution_count": null,
      "outputs": []
    },
    {
      "cell_type": "markdown",
      "source": [
        "## **Splitting the Dataset into Train and Test Datasets**\n",
        "\n",
        "We have defined the dataframe with only the column `churn` as our target variable and the dataframe with the other columns except for `churn` as our feature variables. Then we used `train_test_split()` function with 33% test size and 42 random state to create `X_train`, `X_test`, `y_train` and `y_test`.\n",
        "\n"
      ],
      "metadata": {
        "id": "bCiLM5vhRbd5"
      }
    },
    {
      "cell_type": "code",
      "source": [
        "# Train-test splitting\n",
        "X = df.drop(\"churn\", axis=1)\n",
        "y = df[\"churn\"]\n",
        "X_train, X_test, y_train, y_test = train_test_split(X, y, test_size=0.33, random_state=42)"
      ],
      "metadata": {
        "id": "M7VNkv7k1VmU"
      },
      "execution_count": null,
      "outputs": []
    },
    {
      "cell_type": "code",
      "source": [
        "# Printing the shapes of X_train, X_test, y_train and y_test\n",
        "print(X_train.shape, X_test.shape, y_train.shape, y_test.shape)"
      ],
      "metadata": {
        "colab": {
          "base_uri": "https://localhost:8080/"
        },
        "id": "VC83PLKJ1y6_",
        "outputId": "ac975088-14fb-4169-9437-fc4efa777ed4"
      },
      "execution_count": null,
      "outputs": [
        {
          "output_type": "stream",
          "name": "stdout",
          "text": [
            "(2233, 20) (1100, 20) (2233,) (1100,)\n"
          ]
        }
      ]
    },
    {
      "cell_type": "markdown",
      "source": [
        "Now that we have our data prepared for training. Let's build our model."
      ],
      "metadata": {
        "id": "qiunGBX0R4_Y"
      }
    },
    {
      "cell_type": "markdown",
      "source": [
        "## **Building Our Model**\n",
        "\n",
        "We have used `XGBoost` as the algorithm of our model.\n",
        "\n",
        "### **What is XGBoost?**\n",
        "\n",
        "XGBoost, which stands for Extreme Gradient Boosting, is a scalable, distributed gradient-boosted decision tree (GBDT) machine learning library. It provides parallel tree boosting and is the leading machine learning library for regression, classification, and ranking problems. The documentation can be found [here](https://xgboost.readthedocs.io/en/stable/)."
      ],
      "metadata": {
        "id": "zJf08udvSEyl"
      }
    },
    {
      "cell_type": "code",
      "source": [
        "# Build the model\n",
        "xgb_cl = xgb.XGBClassifier()\n",
        "xgb_cl.fit(X_train, y_train)"
      ],
      "metadata": {
        "colab": {
          "base_uri": "https://localhost:8080/"
        },
        "id": "Ft6CK5If15-f",
        "outputId": "fd4f9657-fa49-41d4-85e8-1694c7546408"
      },
      "execution_count": null,
      "outputs": [
        {
          "output_type": "execute_result",
          "data": {
            "text/plain": [
              "XGBClassifier()"
            ]
          },
          "metadata": {},
          "execution_count": 24
        }
      ]
    },
    {
      "cell_type": "markdown",
      "source": [
        "We predicted `y_test` from the model running on `X_test`"
      ],
      "metadata": {
        "id": "3Zqo0YbiThBH"
      }
    },
    {
      "cell_type": "code",
      "source": [
        "# Predicting on the test data (X_test)\n",
        "preds = xgb_cl.predict(X_test)"
      ],
      "metadata": {
        "id": "yppAIwCr2Xd1"
      },
      "execution_count": null,
      "outputs": []
    },
    {
      "cell_type": "code",
      "source": [
        "# Print the model accuracy\n",
        "acc = accuracy_score(y_test, preds)\n",
        "print(\"Model Accuracy for Test Dataset:\", acc)"
      ],
      "metadata": {
        "colab": {
          "base_uri": "https://localhost:8080/"
        },
        "id": "lJGpulFI2fov",
        "outputId": "3e3d4c3e-1d61-4450-dd83-87e43756bd5d"
      },
      "execution_count": null,
      "outputs": [
        {
          "output_type": "stream",
          "name": "stdout",
          "text": [
            "Model Accuracy for Test Dataset: 0.9154545454545454\n"
          ]
        }
      ]
    },
    {
      "cell_type": "markdown",
      "source": [
        "## **Hyper-parameter Tuning**\n",
        "\n",
        "We had 91.54% accuracy score for our model. There were scopes of improvement. We used `GridSearchCV()` to find the best parameters for our model. Even though it can be tuned multiple times, we just decided to tune it once."
      ],
      "metadata": {
        "id": "6E1AXNPlTtsM"
      }
    },
    {
      "cell_type": "code",
      "source": [
        "# hyperparameter tuning\n",
        "param_grid = {\n",
        "    \"max_depth\": [5],\n",
        "    \"learning_rate\": [0, 0.01, 0.05, 0.1],\n",
        "    \"gamma\": [1, 5, 10],\n",
        "    \"scale_pos_weight\": [2, 5, 10, 20],\n",
        "    \"subsample\":[1],\n",
        "    \"colsample_bytree\": [1]\n",
        "}\n",
        "xgb_cl2 = xgb.XGBClassifier(objective=\"binary:logistic\")\n",
        "grid_cv = GridSearchCV(xgb_cl2, param_grid, n_jobs=-1, cv=3, scoring=\"roc_auc\")\n",
        "_ = grid_cv.fit(X_train, y_train)\n",
        "print(\"The Best Score:\", grid_cv.best_score_)\n",
        "print(\"The Best Params:\", grid_cv.best_params_)"
      ],
      "metadata": {
        "colab": {
          "base_uri": "https://localhost:8080/"
        },
        "id": "RqqaiPW_21Ym",
        "outputId": "fd8634a3-f53e-4048-ce63-adb49cac1238"
      },
      "execution_count": null,
      "outputs": [
        {
          "output_type": "stream",
          "name": "stdout",
          "text": [
            "The Best Score: 0.8772165429327808\n",
            "The Best Params: {'colsample_bytree': 1, 'gamma': 1, 'learning_rate': 0.1, 'max_depth': 5, 'scale_pos_weight': 2, 'subsample': 1}\n"
          ]
        }
      ]
    },
    {
      "cell_type": "markdown",
      "source": [
        "As observed, the score is slightly reduced. But we tried using the best parameters and predicting `y_test` from `X_test`"
      ],
      "metadata": {
        "id": "YcB7sQyMT_C1"
      }
    },
    {
      "cell_type": "code",
      "source": [
        "final_cl = xgb.XGBClassifier(\n",
        "    **grid_cv.best_params_, objective=\"binary:logistic\"\n",
        ")\n",
        "grid_final = final_cl.fit(X_train, y_train)\n",
        "preds = grid_final.predict(X_test)\n",
        "acc = accuracy_score(y_test, preds)\n",
        "print(\"Accuracy of the Final Model:\", acc)"
      ],
      "metadata": {
        "colab": {
          "base_uri": "https://localhost:8080/"
        },
        "id": "Dtnmr45v6J_q",
        "outputId": "d22f0276-4542-4a8f-b404-23dcdf5b6731"
      },
      "execution_count": null,
      "outputs": [
        {
          "output_type": "stream",
          "name": "stdout",
          "text": [
            "Accuracy of the Final Model: 0.9272727272727272\n"
          ]
        }
      ]
    },
    {
      "cell_type": "markdown",
      "source": [
        "## **Conclusion**\n",
        "\n",
        "As observed, we found 92.72% accuracy which can be improved after tuning the model even more and trying better feature enginerring and data pre-processing approaches."
      ],
      "metadata": {
        "id": "rxJtYbhQUQX6"
      }
    }
  ]
}